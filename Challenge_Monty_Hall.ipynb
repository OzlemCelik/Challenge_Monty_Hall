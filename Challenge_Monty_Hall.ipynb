{
 "cells": [
  {
   "cell_type": "code",
   "execution_count": null,
   "metadata": {},
   "outputs": [],
   "source": [
    "There are three doors which two of them are empty and the remaining one is the big prize.\n",
    "Lets assume that we have these values in this order below:\n",
    "door1= empty\n",
    "door2= prize\n",
    "door3= empty \n",
    "If we choose first door in the beginning and open the third door afterwards. \n",
    "The chance of the selecting prize depends on our decision. \n",
    "If we change our decision the chances are P(winning)=2/3 and P(losing)=1/3\n",
    "If we do not change our decision. The chances are P(winning)=1/3 and P(losing)= 2/3.\n"
   ]
  }
 ],
 "metadata": {
  "kernelspec": {
   "display_name": "Python 3",
   "language": "python",
   "name": "python3"
  },
  "language_info": {
   "codemirror_mode": {
    "name": "ipython",
    "version": 3
   },
   "file_extension": ".py",
   "mimetype": "text/x-python",
   "name": "python",
   "nbconvert_exporter": "python",
   "pygments_lexer": "ipython3",
   "version": "3.7.0"
  }
 },
 "nbformat": 4,
 "nbformat_minor": 2
}
